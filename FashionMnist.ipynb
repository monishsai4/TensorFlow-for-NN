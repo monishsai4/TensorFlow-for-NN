{
  "nbformat": 4,
  "nbformat_minor": 0,
  "metadata": {
    "colab": {
      "provenance": [],
      "authorship_tag": "ABX9TyP5yC+dFsPDcxlMzasdVcRN",
      "include_colab_link": true
    },
    "kernelspec": {
      "name": "python3",
      "display_name": "Python 3"
    },
    "language_info": {
      "name": "python"
    }
  },
  "cells": [
    {
      "cell_type": "markdown",
      "metadata": {
        "id": "view-in-github",
        "colab_type": "text"
      },
      "source": [
        "<a href=\"https://colab.research.google.com/github/monishsai4/TensorFlow-for-NN/blob/main/FashionMnist.ipynb\" target=\"_parent\"><img src=\"https://colab.research.google.com/assets/colab-badge.svg\" alt=\"Open In Colab\"/></a>"
      ]
    },
    {
      "cell_type": "code",
      "execution_count": 1,
      "metadata": {
        "id": "M4U-dY1kmTiW"
      },
      "outputs": [],
      "source": [
        "import tensorflow as tf\n",
        "import numpy as np\n",
        "import matplotlib.pyplot as plt"
      ]
    },
    {
      "cell_type": "code",
      "source": [
        "(xtrain,ytrain),(xtest,ytest) = tf.keras.datasets.fashion_mnist.load_data()"
      ],
      "metadata": {
        "colab": {
          "base_uri": "https://localhost:8080/"
        },
        "id": "2q-gqlf1nH4-",
        "outputId": "ca904cdf-4ec8-4d3d-8482-f91e9b09e2b8"
      },
      "execution_count": 2,
      "outputs": [
        {
          "output_type": "stream",
          "name": "stdout",
          "text": [
            "Downloading data from https://storage.googleapis.com/tensorflow/tf-keras-datasets/train-labels-idx1-ubyte.gz\n",
            "29515/29515 [==============================] - 0s 0us/step\n",
            "Downloading data from https://storage.googleapis.com/tensorflow/tf-keras-datasets/train-images-idx3-ubyte.gz\n",
            "26421880/26421880 [==============================] - 0s 0us/step\n",
            "Downloading data from https://storage.googleapis.com/tensorflow/tf-keras-datasets/t10k-labels-idx1-ubyte.gz\n",
            "5148/5148 [==============================] - 0s 0us/step\n",
            "Downloading data from https://storage.googleapis.com/tensorflow/tf-keras-datasets/t10k-images-idx3-ubyte.gz\n",
            "4422102/4422102 [==============================] - 0s 0us/step\n"
          ]
        }
      ]
    },
    {
      "cell_type": "code",
      "source": [
        "class_names = ['T-shirt/top', 'Trouser', 'Pullover', 'Dress', 'Coat','Sandal', 'Shirt', 'Sneaker', 'Bag', 'Ankle boot']\n"
      ],
      "metadata": {
        "id": "GeqX3Z1RnTn_"
      },
      "execution_count": 3,
      "outputs": []
    },
    {
      "cell_type": "code",
      "source": [
        "num1 = np.random.randint(xtrain.shape[0])\n",
        "plt.imshow(xtrain[num1])\n",
        "print(class_names[ytrain[num1]])"
      ],
      "metadata": {
        "colab": {
          "base_uri": "https://localhost:8080/",
          "height": 447
        },
        "id": "0Ouh2_-VncYk",
        "outputId": "205cbd0c-1f5c-472d-d9bb-122687ea68ae"
      },
      "execution_count": 4,
      "outputs": [
        {
          "output_type": "stream",
          "name": "stdout",
          "text": [
            "T-shirt/top\n"
          ]
        },
        {
          "output_type": "display_data",
          "data": {
            "text/plain": [
              "<Figure size 640x480 with 1 Axes>"
            ],
            "image/png": "[encoded data removed]"
          },
          "metadata": {}
        }
      ]
    },
    {
      "cell_type": "code",
      "source": [
        "xtrain = tf.keras.utils.normalize(xtrain,axis = 1)\n",
        "xtest = tf.keras.utils.normalize(xtest,axis = 1)"
      ],
      "metadata": {
        "id": "stybwZMIojQp"
      },
      "execution_count": 17,
      "outputs": []
    },
    {
      "cell_type": "code",
      "source": [
        "model = tf.keras.Sequential([\n",
        "    tf.keras.layers.Conv2D(32,(3,3),padding = 'same',activation = 'relu',input_shape = (28,28,1)),\n",
        "    tf.keras.layers.MaxPooling2D((2,2),strides = 2),\n",
        "    tf.keras.layers.Conv2D(64,(3,3),padding = 'same',activation = 'relu'),\n",
        "    tf.keras.layers.MaxPooling2D((2,2),strides = 2),\n",
        "    tf.keras.layers.Flatten(),\n",
        "    tf.keras.layers.Dense(128,activation = 'relu'),\n",
        "    tf.keras.layers.Dense(10,activation = 'softmax')\n",
        "  ])\n",
        "model.summary()"
      ],
      "metadata": {
        "colab": {
          "base_uri": "https://localhost:8080/"
        },
        "id": "BssguCKKpAt8",
        "outputId": "dcec6dba-3ced-479b-dd35-64e94845919f"
      },
      "execution_count": 13,
      "outputs": [
        {
          "output_type": "stream",
          "name": "stdout",
          "text": [
            "Model: \"sequential_2\"\n",
            "_________________________________________________________________\n",
            " Layer (type)                Output Shape              Param #   \n",
            "=================================================================\n",
            " conv2d_6 (Conv2D)           (None, 28, 28, 32)        320       \n",
            "                                                                 \n",
            " max_pooling2d_4 (MaxPooling  (None, 14, 14, 32)       0         \n",
            " 2D)                                                             \n",
            "                                                                 \n",
            " conv2d_7 (Conv2D)           (None, 14, 14, 64)        18496     \n",
            "                                                                 \n",
            " max_pooling2d_5 (MaxPooling  (None, 7, 7, 64)         0         \n",
            " 2D)                                                             \n",
            "                                                                 \n",
            " flatten (Flatten)           (None, 3136)              0         \n",
            "                                                                 \n",
            " dense_4 (Dense)             (None, 128)               401536    \n",
            "                                                                 \n",
            " dense_5 (Dense)             (None, 10)                1290      \n",
            "                                                                 \n",
            "=================================================================\n",
            "Total params: 421,642\n",
            "Trainable params: 421,642\n",
            "Non-trainable params: 0\n",
            "_________________________________________________________________\n"
          ]
        }
      ]
    },
    {
      "cell_type": "code",
      "source": [
        "model.compile(optimizer='adam',\n",
        "              loss=tf.keras.losses.SparseCategoricalCrossentropy(),\n",
        "              metrics=['accuracy'])"
      ],
      "metadata": {
        "id": "ndSmu-PgonD4"
      },
      "execution_count": 29,
      "outputs": []
    },
    {
      "cell_type": "code",
      "source": [
        "model.fit(xtrain,ytrain, epochs=10)"
      ],
      "metadata": {
        "colab": {
          "base_uri": "https://localhost:8080/"
        },
        "id": "Bx66Qt4xt6sT",
        "outputId": "6d882e02-8495-401e-89b4-faf80d74ef85"
      },
      "execution_count": 30,
      "outputs": [
        {
          "output_type": "stream",
          "name": "stdout",
          "text": [
            "Epoch 1/10\n",
            "1875/1875 [==============================] - 55s 29ms/step - loss: 0.4290 - accuracy: 0.8423\n",
            "Epoch 2/10\n",
            "1875/1875 [==============================] - 56s 30ms/step - loss: 0.2834 - accuracy: 0.8955\n",
            "Epoch 3/10\n",
            "1875/1875 [==============================] - 56s 30ms/step - loss: 0.2420 - accuracy: 0.9104\n",
            "Epoch 4/10\n",
            "1875/1875 [==============================] - 55s 30ms/step - loss: 0.2114 - accuracy: 0.9209\n",
            "Epoch 5/10\n",
            "1875/1875 [==============================] - 56s 30ms/step - loss: 0.1839 - accuracy: 0.9307\n",
            "Epoch 6/10\n",
            "1875/1875 [==============================] - 55s 29ms/step - loss: 0.1637 - accuracy: 0.9380\n",
            "Epoch 7/10\n",
            "1875/1875 [==============================] - 56s 30ms/step - loss: 0.1412 - accuracy: 0.9472\n",
            "Epoch 8/10\n",
            "1875/1875 [==============================] - 56s 30ms/step - loss: 0.1218 - accuracy: 0.9546\n",
            "Epoch 9/10\n",
            "1875/1875 [==============================] - 54s 29ms/step - loss: 0.1059 - accuracy: 0.9604\n",
            "Epoch 10/10\n",
            "1875/1875 [==============================] - 56s 30ms/step - loss: 0.0905 - accuracy: 0.9673\n"
          ]
        },
        {
          "output_type": "execute_result",
          "data": {
            "text/plain": [
              "<keras.callbacks.History at 0x7fd3bc658a90>"
            ]
          },
          "metadata": {},
          "execution_count": 30
        }
      ]
    },
    {
      "cell_type": "code",
      "source": [
        "testloss,testaccuracy=model.evaluate(xtest,ytest)"
      ],
      "metadata": {
        "colab": {
          "base_uri": "https://localhost:8080/"
        },
        "id": "UkokYIvBujq1",
        "outputId": "a1dda21f-1a91-4898-b481-8f73763ea3ad"
      },
      "execution_count": 34,
      "outputs": [
        {
          "output_type": "stream",
          "name": "stdout",
          "text": [
            "313/313 [==============================] - 3s 9ms/step - loss: 0.3009 - accuracy: 0.9113\n"
          ]
        }
      ]
    },
    {
      "cell_type": "code",
      "source": [
        "predict = model.predict(xtest)"
      ],
      "metadata": {
        "colab": {
          "base_uri": "https://localhost:8080/"
        },
        "id": "gsHCN3WF0SwA",
        "outputId": "32ee50c4-3e3e-4e33-a622-421ce35b9e6e"
      },
      "execution_count": 36,
      "outputs": [
        {
          "output_type": "stream",
          "name": "stdout",
          "text": [
            "313/313 [==============================] - 3s 8ms/step\n"
          ]
        }
      ]
    },
    {
      "cell_type": "code",
      "source": [
        "num1 = np.random.randint(predict.shape[0])\n",
        "prediction = np.argmax(predict[num1])\n",
        "plt.title(\"predicted apparel = \"+str(class_names[prediction]))\n",
        "\n",
        "plt.imshow(xtest[num1])"
      ],
      "metadata": {
        "colab": {
          "base_uri": "https://localhost:8080/",
          "height": 469
        },
        "id": "9IXxt7S80uek",
        "outputId": "97a0754c-25ff-44e0-bb86-e3235ce6c3eb"
      },
      "execution_count": 73,
      "outputs": [
        {
          "output_type": "execute_result",
          "data": {
            "text/plain": [
              "<matplotlib.image.AxesImage at 0x7fd3bc46ae60>"
            ]
          },
          "metadata": {},
          "execution_count": 73
        },
        {
          "output_type": "display_data",
          "data": {
            "text/plain": [
              "<Figure size 640x480 with 1 Axes>"
            ],
            "image/png": "[encoded data removed]"
          },
          "metadata": {}
        }
      ]
    },
    {
      "cell_type": "code",
      "source": [
        "print(predict[num1])\n",
        "print(num1)\n",
        "print(prediction)"
      ],
      "metadata": {
        "colab": {
          "base_uri": "https://localhost:8080/"
        },
        "id": "Lq104v8I03wQ",
        "outputId": "ea7e76ec-69b9-4f2d-db87-a6c3f7ce7735"
      },
      "execution_count": 71,
      "outputs": [
        {
          "output_type": "stream",
          "name": "stdout",
          "text": [
            "[6.6028810e-01 1.4985227e-08 1.8097940e-04 8.3060550e-05 5.1481843e-06\n",
            " 1.0460803e-07 3.3944058e-01 3.4465236e-07 1.6416654e-06 4.2192809e-08]\n",
            "8128\n",
            "0\n"
          ]
        }
      ]
    },
    {
      "cell_type": "code",
      "source": [],
      "metadata": {
        "id": "J3EOjVEDMiAc"
      },
      "execution_count": null,
      "outputs": []
    }
  ]
}