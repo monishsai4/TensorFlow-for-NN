{
  "nbformat": 4,
  "nbformat_minor": 0,
  "metadata": {
    "colab": {
      "provenance": [],
      "gpuType": "T4",
      "mount_file_id": "1kdFHj-GQgmtoPsw0vDRMxa1NtzaUH_bE",
      "authorship_tag": "ABX9TyNs+suBnf3CGQjjGtAlwhmN",
      "include_colab_link": true
    },
    "kernelspec": {
      "name": "python3",
      "display_name": "Python 3"
    },
    "language_info": {
      "name": "python"
    },
    "accelerator": "GPU"
  },
  "cells": [
    {
      "cell_type": "markdown",
      "metadata": {
        "id": "view-in-github",
        "colab_type": "text"
      },
      "source": [
        "<a href=\"https://colab.research.google.com/github/monishsai4/TensorFlow-for-NN/blob/main/TensorflowMnist.ipynb\" target=\"_parent\"><img src=\"https://colab.research.google.com/assets/colab-badge.svg\" alt=\"Open In Colab\"/></a>"
      ]
    },
    {
      "cell_type": "markdown",
      "source": [
        "# **TensorFlow Mnist data**"
      ],
      "metadata": {
        "id": "MJfns_SOuMwG"
      }
    },
    {
      "cell_type": "markdown",
      "source": [
        "**Importing all the required libraries.**"
      ],
      "metadata": {
        "id": "ZANBgY8JuDbp"
      }
    },
    {
      "cell_type": "code",
      "execution_count": 2,
      "metadata": {
        "id": "3eh2CKIijZY_"
      },
      "outputs": [],
      "source": [
        "import tensorflow as tf\n",
        "import numpy as np\n",
        "import matplotlib.pyplot  as plt"
      ]
    },
    {
      "cell_type": "code",
      "source": [
        "mnist = tf.keras.datasets.mnist"
      ],
      "metadata": {
        "id": "YUXyIcKtkOfR"
      },
      "execution_count": 3,
      "outputs": []
    },
    {
      "cell_type": "markdown",
      "source": [
        "**Loading the file and splitting it into train and test sets.**:"
      ],
      "metadata": {
        "id": "oAJuJgx_ueJ5"
      }
    },
    {
      "cell_type": "code",
      "source": [
        "(train_x,train_y),(test_x,test_y) = mnist.load_data()"
      ],
      "metadata": {
        "colab": {
          "base_uri": "https://localhost:8080/"
        },
        "id": "6lf-yjYdk-v3",
        "outputId": "05aeb6fa-d0bc-4d29-f1e0-747486feda66"
      },
      "execution_count": 4,
      "outputs": [
        {
          "output_type": "stream",
          "name": "stdout",
          "text": [
            "Downloading data from https://storage.googleapis.com/tensorflow/tf-keras-datasets/mnist.npz\n",
            "11490434/11490434 [==============================] - 0s 0us/step\n"
          ]
        }
      ]
    },
    {
      "cell_type": "code",
      "source": [
        "print(train_x[4])\n",
        "plt.imshow(train_x[4])"
      ],
      "metadata": {
        "colab": {
          "base_uri": "https://localhost:8080/",
          "height": 1000
        },
        "id": "7Yw4bv2Iu9qQ",
        "outputId": "c2e6461c-7f03-4b45-bedd-8a560a8d6387"
      },
      "execution_count": 57,
      "outputs": [
        {
          "output_type": "stream",
          "name": "stdout",
          "text": [
            "[[0.         0.         0.         0.         0.         0.\n",
            "  0.         0.         0.         0.         0.         0.\n",
            "  0.         0.         0.         0.         0.         0.\n",
            "  0.         0.         0.         0.         0.         0.\n",
            "  0.         0.         0.         0.        ]\n",
            " [0.         0.         0.         0.         0.         0.\n",
            "  0.         0.         0.         0.         0.         0.\n",
            "  0.         0.         0.         0.         0.         0.\n",
            "  0.         0.         0.         0.         0.         0.\n",
            "  0.         0.         0.         0.        ]\n",
            " [0.         0.         0.         0.         0.         0.\n",
            "  0.         0.         0.         0.         0.         0.\n",
            "  0.         0.         0.         0.         0.         0.\n",
            "  0.         0.         0.         0.         0.         0.\n",
            "  0.         0.         0.         0.        ]\n",
            " [0.         0.         0.         0.         0.         0.\n",
            "  0.         0.         0.         0.         0.         0.\n",
            "  0.         0.         0.         0.         0.         0.\n",
            "  0.         0.         0.         0.         0.         0.\n",
            "  0.         0.         0.         0.        ]\n",
            " [0.         0.         0.         0.         0.         0.\n",
            "  0.         0.         0.         0.         0.         0.\n",
            "  0.         0.         0.         0.         0.         0.\n",
            "  0.         0.         0.         0.         0.         0.\n",
            "  0.         0.         0.         0.        ]\n",
            " [0.         0.         0.         0.         0.         0.\n",
            "  0.         0.         0.         0.         0.         0.\n",
            "  0.         0.         0.         0.         0.         0.\n",
            "  0.         0.         0.         0.         0.         0.\n",
            "  0.         0.         0.         0.        ]\n",
            " [0.         0.         0.         0.         0.         0.\n",
            "  0.         0.         0.         0.         0.         0.\n",
            "  0.         0.         0.         0.         0.         0.\n",
            "  0.         0.         0.         0.         0.         0.\n",
            "  0.         0.         0.         0.        ]\n",
            " [0.         0.         0.         0.         0.         0.\n",
            "  0.         0.         0.         0.         0.         0.\n",
            "  0.10825702 0.29029654 0.24277489 0.26624957 0.3376823  0.17250963\n",
            "  0.16434647 0.32546107 0.25885291 0.         0.         0.\n",
            "  0.         0.         0.         0.        ]\n",
            " [0.         0.         0.         0.         0.         0.\n",
            "  0.         0.         0.         0.         0.         0.17479079\n",
            "  0.45664779 0.49428871 0.29248594 0.1988979  0.28028966 0.38471175\n",
            "  0.47603806 0.55636251 0.79067798 0.         0.         0.\n",
            "  0.         0.         0.         0.        ]\n",
            " [0.         0.         0.         0.         0.         0.\n",
            "  0.         0.         0.         0.00737531 0.10923028 0.48619968\n",
            "  0.49601398 0.372678   0.07514461 0.00526185 0.01601655 0.27784738\n",
            "  0.47603806 0.55636251 0.54594432 0.         0.         0.\n",
            "  0.         0.         0.         0.        ]\n",
            " [0.         0.         0.         0.         0.         0.\n",
            "  0.         0.         0.         0.17700732 0.48291283 0.50629058\n",
            "  0.36020063 0.02746048 0.         0.         0.12279356 0.38471175\n",
            "  0.47603806 0.49478879 0.09883475 0.         0.         0.\n",
            "  0.         0.         0.         0.        ]\n",
            " [0.         0.         0.         0.         0.         0.\n",
            "  0.         0.         0.23077417 0.46648805 0.48291283 0.29332708\n",
            "  0.02755633 0.         0.         0.         0.28696322 0.38471175\n",
            "  0.47603806 0.17372584 0.         0.         0.         0.\n",
            "  0.         0.         0.         0.        ]\n",
            " [0.         0.         0.         0.         0.         0.\n",
            "  0.         0.28937621 0.44231716 0.45542509 0.33727245 0.01808181\n",
            "  0.         0.         0.00924857 0.08208485 0.3270046  0.38623839\n",
            "  0.24368615 0.         0.         0.         0.         0.\n",
            "  0.         0.         0.         0.        ]\n",
            " [0.         0.         0.         0.         0.         0.\n",
            "  0.5069794  0.5328197  0.44056887 0.32451343 0.         0.\n",
            "  0.         0.07061267 0.23237025 0.2651972  0.33634759 0.25800114\n",
            "  0.02077944 0.         0.         0.         0.         0.\n",
            "  0.         0.         0.         0.        ]\n",
            " [0.         0.         0.         0.         0.         0.\n",
            "  0.69709668 0.57875243 0.44056887 0.05531479 0.04215906 0.23908166\n",
            "  0.38775696 0.47271262 0.29248594 0.2651972  0.33501288 0.11755081\n",
            "  0.         0.         0.         0.         0.         0.\n",
            "  0.         0.         0.         0.        ]\n",
            " [0.         0.         0.         0.         0.         0.\n",
            "  0.5069794  0.53052306 0.44056887 0.46648805 0.48291283 0.50629058\n",
            "  0.49601398 0.44329067 0.2624281  0.2651972  0.30831862 0.\n",
            "  0.         0.         0.         0.         0.         0.\n",
            "  0.         0.         0.         0.        ]\n",
            " [0.         0.         0.         0.         0.         0.\n",
            "  0.         0.12631501 0.41084795 0.46648805 0.41584161 0.27725436\n",
            "  0.082669   0.04707512 0.22196561 0.2651972  0.19086391 0.\n",
            "  0.         0.         0.         0.         0.         0.\n",
            "  0.         0.         0.         0.        ]\n",
            " [0.         0.         0.         0.         0.         0.\n",
            "  0.         0.         0.         0.         0.         0.\n",
            "  0.         0.12161071 0.29479808 0.26624957 0.14548368 0.\n",
            "  0.         0.         0.         0.         0.         0.\n",
            "  0.         0.         0.         0.        ]\n",
            " [0.         0.         0.         0.         0.         0.\n",
            "  0.         0.         0.         0.         0.         0.\n",
            "  0.         0.13926388 0.29248594 0.2651972  0.02802897 0.\n",
            "  0.         0.         0.         0.         0.         0.\n",
            "  0.         0.         0.         0.        ]\n",
            " [0.         0.         0.         0.         0.         0.\n",
            "  0.         0.         0.         0.         0.         0.\n",
            "  0.         0.         0.29248594 0.2651972  0.02802897 0.\n",
            "  0.         0.         0.         0.         0.         0.\n",
            "  0.         0.         0.         0.        ]\n",
            " [0.         0.         0.         0.         0.         0.\n",
            "  0.         0.         0.         0.         0.         0.\n",
            "  0.         0.13926388 0.29248594 0.2651972  0.02802897 0.\n",
            "  0.         0.         0.         0.         0.         0.\n",
            "  0.         0.         0.         0.        ]\n",
            " [0.         0.         0.         0.         0.         0.\n",
            "  0.         0.         0.         0.         0.         0.\n",
            "  0.         0.20791509 0.29248594 0.2651972  0.02802897 0.\n",
            "  0.         0.         0.         0.         0.         0.\n",
            "  0.         0.         0.         0.        ]\n",
            " [0.         0.         0.         0.         0.         0.\n",
            "  0.         0.         0.         0.         0.         0.\n",
            "  0.         0.08826584 0.29479808 0.26624957 0.02802897 0.\n",
            "  0.         0.         0.         0.         0.         0.\n",
            "  0.         0.         0.         0.        ]\n",
            " [0.         0.         0.         0.         0.         0.\n",
            "  0.         0.         0.         0.         0.         0.\n",
            "  0.         0.         0.25202346 0.2651972  0.07474391 0.\n",
            "  0.         0.         0.         0.         0.         0.\n",
            "  0.         0.         0.         0.        ]\n",
            " [0.         0.         0.         0.         0.         0.\n",
            "  0.         0.         0.         0.         0.         0.\n",
            "  0.         0.         0.11098281 0.2651972  0.25226069 0.06411863\n",
            "  0.         0.         0.         0.         0.         0.\n",
            "  0.         0.         0.         0.        ]\n",
            " [0.         0.         0.         0.         0.         0.\n",
            "  0.         0.         0.         0.         0.         0.\n",
            "  0.         0.         0.01618499 0.19363605 0.33634759 0.25952777\n",
            "  0.02077944 0.         0.         0.         0.         0.\n",
            "  0.         0.         0.         0.        ]\n",
            " [0.         0.         0.         0.         0.         0.\n",
            "  0.         0.         0.         0.         0.         0.\n",
            "  0.         0.         0.         0.01473318 0.19620276 0.38471175\n",
            "  0.07933968 0.         0.         0.         0.         0.\n",
            "  0.         0.         0.         0.        ]\n",
            " [0.         0.         0.         0.         0.         0.\n",
            "  0.         0.         0.         0.         0.         0.\n",
            "  0.         0.         0.         0.         0.         0.\n",
            "  0.         0.         0.         0.         0.         0.\n",
            "  0.         0.         0.         0.        ]]\n"
          ]
        },
        {
          "output_type": "execute_result",
          "data": {
            "text/plain": [
              "<matplotlib.image.AxesImage at 0x7f343a683700>"
            ]
          },
          "metadata": {},
          "execution_count": 57
        },
        {
          "output_type": "display_data",
          "data": {
            "text/plain": [
              "<Figure size 640x480 with 1 Axes>"
            ],
            "image/png": "[encoded data removed]"
          },
          "metadata": {}
        }
      ]
    },
    {
      "cell_type": "markdown",
      "source": [
        "Normalizing the data."
      ],
      "metadata": {
        "id": "5XK197Hmut35"
      }
    },
    {
      "cell_type": "code",
      "source": [
        "train_x = tf.keras.utils.normalize(train_x,axis=1)\n",
        "test_x  = tf.keras.utils.normalize(test_x, axis=1)"
      ],
      "metadata": {
        "id": "4Jbkepvkmo7N"
      },
      "execution_count": 35,
      "outputs": []
    },
    {
      "cell_type": "markdown",
      "source": [
        "**Sequential model from tensorflow**"
      ],
      "metadata": {
        "id": "ImYPUp4ovfq1"
      }
    },
    {
      "cell_type": "code",
      "source": [
        "model = tf.keras.models.Sequential([\n",
        "        tf.keras.layers.Flatten(input_shape = (28,28)),\n",
        "        tf.keras.layers.Dense(128,activation = 'relu'),\n",
        "        tf.keras.layers.Dense(64,activation = 'relu'),\n",
        "        tf.keras.layers.Dropout(0.2),\n",
        "        tf.keras.layers.Dense(10,activation = 'softmax')])"
      ],
      "metadata": {
        "id": "1sgBw9MfoEF1"
      },
      "execution_count": 36,
      "outputs": []
    },
    {
      "cell_type": "markdown",
      "source": [
        "Compiler using **optimizer** = 'adam',   **loss** = 'sparse_categorical_crossentropy',   **metrics** = ['accuracy']"
      ],
      "metadata": {
        "id": "3jgYwI_kvnCG"
      }
    },
    {
      "cell_type": "code",
      "source": [
        "model.compile(optimizer = 'adam',loss = 'sparse_categorical_crossentropy',metrics = ['accuracy'])"
      ],
      "metadata": {
        "id": "Swz0aLPCo7EV"
      },
      "execution_count": 37,
      "outputs": []
    },
    {
      "cell_type": "code",
      "source": [
        "model.fit(train_x,train_y,epochs = 5,batch_size = 10)"
      ],
      "metadata": {
        "colab": {
          "base_uri": "https://localhost:8080/"
        },
        "id": "-ddofHFap8kO",
        "outputId": "a8495b7f-8761-4782-8915-9c128cf0a67d"
      },
      "execution_count": 38,
      "outputs": [
        {
          "output_type": "stream",
          "name": "stdout",
          "text": [
            "Epoch 1/5\n",
            "6000/6000 [==============================] - 47s 3ms/step - loss: 0.2603 - accuracy: 0.9213\n",
            "Epoch 2/5\n",
            "6000/6000 [==============================] - 17s 3ms/step - loss: 0.1152 - accuracy: 0.9649\n",
            "Epoch 3/5\n",
            "6000/6000 [==============================] - 18s 3ms/step - loss: 0.0815 - accuracy: 0.9747\n",
            "Epoch 4/5\n",
            "6000/6000 [==============================] - 18s 3ms/step - loss: 0.0643 - accuracy: 0.9807\n",
            "Epoch 5/5\n",
            "6000/6000 [==============================] - 17s 3ms/step - loss: 0.0524 - accuracy: 0.9831\n"
          ]
        },
        {
          "output_type": "execute_result",
          "data": {
            "text/plain": [
              "<keras.callbacks.History at 0x7f33a46c34f0>"
            ]
          },
          "metadata": {},
          "execution_count": 38
        }
      ]
    },
    {
      "cell_type": "code",
      "source": [
        "y = model.predict(test_x)"
      ],
      "metadata": {
        "colab": {
          "base_uri": "https://localhost:8080/"
        },
        "id": "dLWZ9yDnqKD1",
        "outputId": "12f5e613-186f-44c8-c433-4b9c5ca2f98d"
      },
      "execution_count": 39,
      "outputs": [
        {
          "output_type": "stream",
          "name": "stdout",
          "text": [
            "313/313 [==============================] - 1s 2ms/step\n"
          ]
        }
      ]
    },
    {
      "cell_type": "code",
      "source": [
        "print(y.shape)\n",
        "s = np.random.randint(y.shape[0])\n",
        "prediction = (np.where(y[s]==max(y[s]))[0])"
      ],
      "metadata": {
        "colab": {
          "base_uri": "https://localhost:8080/"
        },
        "id": "06FO5Ya2sZkw",
        "outputId": "373ff631-6886-4912-b199-27f022788946"
      },
      "execution_count": 51,
      "outputs": [
        {
          "output_type": "stream",
          "name": "stdout",
          "text": [
            "(10000, 10)\n"
          ]
        }
      ]
    },
    {
      "cell_type": "code",
      "source": [
        "plt.imshow(test_x[s])\n",
        "print(\"predicted value =\",prediction)"
      ],
      "metadata": {
        "colab": {
          "base_uri": "https://localhost:8080/",
          "height": 447
        },
        "id": "IvPgUbCtswze",
        "outputId": "5e1afb41-8877-424b-9e6f-4cddbd77fc43"
      },
      "execution_count": 52,
      "outputs": [
        {
          "output_type": "stream",
          "name": "stdout",
          "text": [
            "predicted value = [7]\n"
          ]
        },
        {
          "output_type": "display_data",
          "data": {
            "text/plain": [
              "<Figure size 640x480 with 1 Axes>"
            ],
            "image/png": "[encoded data removed]"
          },
          "metadata": {}
        }
      ]
    },
    {
      "cell_type": "code",
      "source": [
        "score = model.evaluate(test_x, test_y, verbose=1)\n",
        "score"
      ],
      "metadata": {
        "colab": {
          "base_uri": "https://localhost:8080/"
        },
        "id": "4Tkt0mo-tfDJ",
        "outputId": "af72fffb-17c1-444c-806a-68d420fd6904"
      },
      "execution_count": 93,
      "outputs": [
        {
          "output_type": "stream",
          "name": "stdout",
          "text": [
            "313/313 [==============================] - 2s 5ms/step - loss: 0.0979 - accuracy: 0.9745\n"
          ]
        },
        {
          "output_type": "execute_result",
          "data": {
            "text/plain": [
              "[0.09794776886701584, 0.9745000004768372]"
            ]
          },
          "metadata": {},
          "execution_count": 93
        }
      ]
    },
    {
      "cell_type": "markdown",
      "source": [
        "**Functional Method for making a model**"
      ],
      "metadata": {
        "id": "twZu0icPwcDD"
      }
    },
    {
      "cell_type": "code",
      "source": [
        "print(train_x.shape)"
      ],
      "metadata": {
        "colab": {
          "base_uri": "https://localhost:8080/"
        },
        "id": "lKSTMDhqxDRP",
        "outputId": "00c45cc5-74d2-4614-9520-fa3d18e7397f"
      },
      "execution_count": 61,
      "outputs": [
        {
          "output_type": "stream",
          "name": "stdout",
          "text": [
            "(60000, 28, 28)\n"
          ]
        }
      ]
    },
    {
      "cell_type": "code",
      "source": [
        "train_x = train_x.reshape(train_x.shape[0],784)"
      ],
      "metadata": {
        "id": "S1MP5d8FzSv1"
      },
      "execution_count": 74,
      "outputs": []
    },
    {
      "cell_type": "code",
      "source": [
        "input_layer = tf.keras.Input(shape=(784,))\n",
        "dense_layer1 = tf.keras.layers.Dense(128, activation = 'relu',name = 'layer_1')(input_layer)\n",
        "dense_layer2 = tf.keras.layers.Dense(128, activation = 'relu' ,name = 'layer_2')(dense_layer1)\n",
        "output_layer = tf.keras.layers.Dense(10, activation = 'softmax')(dense_layer2)\n",
        "model_functional = tf.keras.Model(inputs = input_layer, outputs = output_layer)\n",
        "print(model_functional.summary())"
      ],
      "metadata": {
        "colab": {
          "base_uri": "https://localhost:8080/"
        },
        "id": "1tsRj9vav-Sh",
        "outputId": "fa36e197-375f-4376-a371-5897584ac1be"
      },
      "execution_count": 86,
      "outputs": [
        {
          "output_type": "stream",
          "name": "stdout",
          "text": [
            "Model: \"model_4\"\n",
            "_________________________________________________________________\n",
            " Layer (type)                Output Shape              Param #   \n",
            "=================================================================\n",
            " input_6 (InputLayer)        [(None, 784)]             0         \n",
            "                                                                 \n",
            " layer_1 (Dense)             (None, 128)               100480    \n",
            "                                                                 \n",
            " layer_2 (Dense)             (None, 128)               16512     \n",
            "                                                                 \n",
            " dense_18 (Dense)            (None, 10)                1290      \n",
            "                                                                 \n",
            "=================================================================\n",
            "Total params: 118,282\n",
            "Trainable params: 118,282\n",
            "Non-trainable params: 0\n",
            "_________________________________________________________________\n",
            "None\n"
          ]
        }
      ]
    },
    {
      "cell_type": "code",
      "source": [
        "model_functional.compile(optimizer = \"adam\", loss = \"sparse_categorical_crossentropy\", metrics = [\"accuracy\"])"
      ],
      "metadata": {
        "id": "swsLU1Xrw0Bs"
      },
      "execution_count": 87,
      "outputs": []
    },
    {
      "cell_type": "code",
      "source": [
        "print(train_y.shape)\n",
        "print(train_x.shape)"
      ],
      "metadata": {
        "colab": {
          "base_uri": "https://localhost:8080/"
        },
        "id": "Q85lQ2KQx_O9",
        "outputId": "2fcfa018-24b7-4f43-a83f-1ce734de53fc"
      },
      "execution_count": 88,
      "outputs": [
        {
          "output_type": "stream",
          "name": "stdout",
          "text": [
            "(60000,)\n",
            "(60000, 784)\n"
          ]
        }
      ]
    },
    {
      "cell_type": "code",
      "source": [
        "model_functional.fit(train_x,train_y,epochs = 5,batch_size = 10)"
      ],
      "metadata": {
        "colab": {
          "base_uri": "https://localhost:8080/"
        },
        "id": "QZbRzQi6xjav",
        "outputId": "47820316-4624-4d55-dcfe-de6b8fb56684"
      },
      "execution_count": 89,
      "outputs": [
        {
          "output_type": "stream",
          "name": "stdout",
          "text": [
            "Epoch 1/5\n",
            "6000/6000 [==============================] - 18s 3ms/step - loss: 0.2187 - accuracy: 0.9336\n",
            "Epoch 2/5\n",
            "6000/6000 [==============================] - 16s 3ms/step - loss: 0.0951 - accuracy: 0.9706\n",
            "Epoch 3/5\n",
            "6000/6000 [==============================] - 17s 3ms/step - loss: 0.0653 - accuracy: 0.9794\n",
            "Epoch 4/5\n",
            "6000/6000 [==============================] - 16s 3ms/step - loss: 0.0492 - accuracy: 0.9837\n",
            "Epoch 5/5\n",
            "6000/6000 [==============================] - 17s 3ms/step - loss: 0.0397 - accuracy: 0.9869\n"
          ]
        },
        {
          "output_type": "execute_result",
          "data": {
            "text/plain": [
              "<keras.callbacks.History at 0x7f3438433760>"
            ]
          },
          "metadata": {},
          "execution_count": 89
        }
      ]
    },
    {
      "cell_type": "code",
      "source": [
        "test_x = test_x.reshape(test_x.shape[0],784)"
      ],
      "metadata": {
        "id": "weETtOFu0CwT"
      },
      "execution_count": 90,
      "outputs": []
    },
    {
      "cell_type": "code",
      "source": [
        "y = model_functional.predict(test_x)"
      ],
      "metadata": {
        "colab": {
          "base_uri": "https://localhost:8080/"
        },
        "id": "kxlwIZwlxtaN",
        "outputId": "b4f37af5-c8f7-4828-8a92-6f6d88f07e4f"
      },
      "execution_count": 91,
      "outputs": [
        {
          "output_type": "stream",
          "name": "stdout",
          "text": [
            "313/313 [==============================] - 1s 2ms/step\n"
          ]
        }
      ]
    },
    {
      "cell_type": "code",
      "source": [
        "score1=model_functional.evaluate(test_x, test_y, verbose=1)\n",
        "score1"
      ],
      "metadata": {
        "colab": {
          "base_uri": "https://localhost:8080/"
        },
        "id": "oOksa6WM0Apc",
        "outputId": "76243c59-4a8b-4a9d-9ac7-47f259b760d0"
      },
      "execution_count": 92,
      "outputs": [
        {
          "output_type": "stream",
          "name": "stdout",
          "text": [
            "313/313 [==============================] - 1s 2ms/step - loss: 0.0932 - accuracy: 0.9763\n"
          ]
        },
        {
          "output_type": "execute_result",
          "data": {
            "text/plain": [
              "[0.0931786447763443, 0.9763000011444092]"
            ]
          },
          "metadata": {},
          "execution_count": 92
        }
      ]
    },
    {
      "cell_type": "code",
      "source": [
        "%cd /content/drive/MyDrive/Colab Notebooks"
      ],
      "metadata": {
        "colab": {
          "base_uri": "https://localhost:8080/"
        },
        "id": "t4knRX7t2Dl9",
        "outputId": "349457f1-9362-4b67-9669-865bb48c557b"
      },
      "execution_count": 101,
      "outputs": [
        {
          "output_type": "stream",
          "name": "stdout",
          "text": [
            "[Errno 20] Not a directory: '/content/drive/MyDrive/Colab Notebooks/TensorflowMnist'\n",
            "/content/drive/MyDrive/Colab Notebooks\n"
          ]
        }
      ]
    },
    {
      "cell_type": "markdown",
      "source": [
        "**Saving and loading model in tensorflow**"
      ],
      "metadata": {
        "id": "4cUiPgYS5Pdl"
      }
    },
    {
      "cell_type": "code",
      "source": [
        "model.save('mnist_model.h5')"
      ],
      "metadata": {
        "id": "AZNFiEPi2-pQ"
      },
      "execution_count": 114,
      "outputs": []
    },
    {
      "cell_type": "code",
      "source": [
        "!ls"
      ],
      "metadata": {
        "colab": {
          "base_uri": "https://localhost:8080/"
        },
        "id": "lF3Sn_Vs4Btg",
        "outputId": "58142215-2299-42c9-dfaf-9da06a49cac5"
      },
      "execution_count": 105,
      "outputs": [
        {
          "output_type": "stream",
          "name": "stdout",
          "text": [
            "'Basic F B logprop.ipynb'      submission.csv\n",
            " Datasets\t\t       submission.xlsx\n",
            " Diabetes_pred_Logreg.ipynb    TensorflowMnist\n",
            " gender_submission.csv\t       TensorflowMnist.ipynb\n",
            " kaggle.json\t\t       Titanic_pred_Logreg.ipynb\n",
            " Logregmodelnn.ipynb\t       titanic.zip\n",
            " mnist_model.model\t       Untitled\n",
            " playground-series-s3e17.zip   Untitled0.ipynb\n"
          ]
        }
      ]
    },
    {
      "cell_type": "code",
      "source": [
        "loaded_model = tf.keras.models.load_model('mnist_model.h5')"
      ],
      "metadata": {
        "id": "IGE4msq84YTj"
      },
      "execution_count": 115,
      "outputs": []
    },
    {
      "cell_type": "code",
      "source": [
        "print(loaded_model)"
      ],
      "metadata": {
        "colab": {
          "base_uri": "https://localhost:8080/"
        },
        "id": "9MZy6abN4f4J",
        "outputId": "38506c5f-0f2f-43e1-cfb3-fa0fcf9f9513"
      },
      "execution_count": 116,
      "outputs": [
        {
          "output_type": "stream",
          "name": "stdout",
          "text": [
            "<keras.engine.sequential.Sequential object at 0x7f3450be7070>\n"
          ]
        }
      ]
    },
    {
      "cell_type": "code",
      "source": [
        "y_new = loaded_model.predict(test_x.reshape(test_x.shape[0],28,28))\n",
        "print(y_new.shape)\n",
        "num1 = np.random.randint(y_new.shape[0])\n",
        "print(y_new[num1])\n",
        "prediction_new = np.argmax(y_new[num1])#(np.where(y_new[num1]==max(y_new[num1]))[0])\n",
        "# Visualizing the test prediction and actual val\n",
        "plt.imshow(test_x.reshape(test_x.shape[0],28,28)[num1])\n",
        "print(\"predicted value = \", prediction_new)"
      ],
      "metadata": {
        "colab": {
          "base_uri": "https://localhost:8080/",
          "height": 517
        },
        "id": "BAlVZwrP4i6q",
        "outputId": "f8c4f717-88a4-4718-b707-c0e9b6cef6ca"
      },
      "execution_count": 117,
      "outputs": [
        {
          "output_type": "stream",
          "name": "stdout",
          "text": [
            "313/313 [==============================] - 1s 2ms/step\n",
            "(10000, 10)\n",
            "[1.4212972e-07 5.0116758e-11 9.4139717e-11 1.6988245e-09 5.1769344e-10\n",
            " 1.8009829e-06 9.9999774e-01 1.4874107e-12 3.5341472e-07 2.7366241e-11]\n",
            "predicted value =  6\n"
          ]
        },
        {
          "output_type": "display_data",
          "data": {
            "text/plain": [
              "<Figure size 640x480 with 1 Axes>"
            ],
            "image/png": "[encoded data removed]"
          },
          "metadata": {}
        }
      ]
    },
    {
      "cell_type": "code",
      "source": [
        "tf.saved_model.save(model_functional,'/content/drive/MyDrive/Colab Notebooks/mnist_fun_model')"
      ],
      "metadata": {
        "id": "fdhi1yXwFFzd"
      },
      "execution_count": 112,
      "outputs": []
    },
    {
      "cell_type": "code",
      "source": [
        "reloaded_sm = tf.saved_model.load('mnist_fun_model')"
      ],
      "metadata": {
        "id": "oLnmhV2FIkk1"
      },
      "execution_count": 113,
      "outputs": []
    },
    {
      "cell_type": "code",
      "source": [],
      "metadata": {
        "id": "tk4YIQE7I3rU"
      },
      "execution_count": null,
      "outputs": []
    }
  ]
}